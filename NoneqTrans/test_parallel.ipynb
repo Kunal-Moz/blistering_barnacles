{
 "cells": [
  {
   "cell_type": "code",
   "execution_count": 1,
   "metadata": {},
   "outputs": [],
   "source": [
    "from mpi4py import MPI\n",
    "import numpy as np\n",
    "import scipy\n"
   ]
  },
  {
   "cell_type": "code",
   "execution_count": 2,
   "metadata": {},
   "outputs": [
    {
     "name": "stdout",
     "output_type": "stream",
     "text": [
      "Rank : 0\n",
      "Processors : 1\n"
     ]
    }
   ],
   "source": [
    "comm = MPI.COMM_WORLD\n",
    "myrank = comm.Get_rank()\n",
    "nproc = comm.Get_size()\n",
    "print(\"Rank :\", myrank)\n",
    "print(\"Processors :\", nproc)\n",
    "\n"
   ]
  },
  {
   "cell_type": "code",
   "execution_count": 3,
   "metadata": {},
   "outputs": [
    {
     "name": "stdout",
     "output_type": "stream",
     "text": [
      "startval : 1\n",
      "endval  1000\n",
      "[0. 1. 2. 3. 4. 5. 6. 7. 8. 9.]\n"
     ]
    },
    {
     "ename": "ValueError",
     "evalue": "message: displacement 10 out of bounds, number of datatype entries 1",
     "output_type": "error",
     "traceback": [
      "\u001b[0;31m---------------------------------------------------------------------------\u001b[0m",
      "\u001b[0;31mValueError\u001b[0m                                Traceback (most recent call last)",
      "\u001b[0;32m<ipython-input-3-9eacde9e93da>\u001b[0m in \u001b[0;36m<module>\u001b[0;34m\u001b[0m\n\u001b[1;32m     14\u001b[0m \u001b[0;34m\u001b[0m\u001b[0m\n\u001b[1;32m     15\u001b[0m \u001b[0mtot_sum\u001b[0m \u001b[0;34m=\u001b[0m \u001b[0mnp\u001b[0m\u001b[0;34m.\u001b[0m\u001b[0marray\u001b[0m\u001b[0;34m(\u001b[0m\u001b[0;36m10\u001b[0m\u001b[0;34m)\u001b[0m\u001b[0;34m\u001b[0m\u001b[0;34m\u001b[0m\u001b[0m\n\u001b[0;32m---> 16\u001b[0;31m \u001b[0mcomm\u001b[0m\u001b[0;34m.\u001b[0m\u001b[0mReduce\u001b[0m\u001b[0;34m(\u001b[0m\u001b[0;34m[\u001b[0m\u001b[0mpartial_sum\u001b[0m\u001b[0;34m,\u001b[0m\u001b[0;34m(\u001b[0m\u001b[0;36m1\u001b[0m\u001b[0;34m,\u001b[0m\u001b[0;36m10\u001b[0m\u001b[0;34m)\u001b[0m\u001b[0;34m,\u001b[0m \u001b[0mMPI\u001b[0m\u001b[0;34m.\u001b[0m\u001b[0mDOUBLE\u001b[0m\u001b[0;34m]\u001b[0m \u001b[0;34m,\u001b[0m \u001b[0;34m[\u001b[0m\u001b[0mtot_sum\u001b[0m\u001b[0;34m,\u001b[0m\u001b[0;34m(\u001b[0m\u001b[0;36m1\u001b[0m\u001b[0;34m,\u001b[0m\u001b[0;36m10\u001b[0m\u001b[0;34m)\u001b[0m\u001b[0;34m,\u001b[0m \u001b[0mMPI\u001b[0m\u001b[0;34m.\u001b[0m\u001b[0mDOUBLE\u001b[0m\u001b[0;34m]\u001b[0m \u001b[0;34m,\u001b[0m \u001b[0mop\u001b[0m\u001b[0;34m=\u001b[0m\u001b[0mMPI\u001b[0m\u001b[0;34m.\u001b[0m\u001b[0mSUM\u001b[0m \u001b[0;34m,\u001b[0m \u001b[0mroot\u001b[0m\u001b[0;34m=\u001b[0m\u001b[0;36m0\u001b[0m\u001b[0;34m)\u001b[0m\u001b[0;34m\u001b[0m\u001b[0;34m\u001b[0m\u001b[0m\n\u001b[0m\u001b[1;32m     17\u001b[0m \u001b[0;34m\u001b[0m\u001b[0m\n\u001b[1;32m     18\u001b[0m \u001b[0;32mif\u001b[0m \u001b[0;34m(\u001b[0m \u001b[0mmyrank\u001b[0m \u001b[0;34m==\u001b[0m \u001b[0;36m0\u001b[0m \u001b[0;34m)\u001b[0m\u001b[0;34m:\u001b[0m\u001b[0;34m\u001b[0m\u001b[0;34m\u001b[0m\u001b[0m\n",
      "\u001b[0;32mmpi4py/MPI/Comm.pyx\u001b[0m in \u001b[0;36mmpi4py.MPI.Comm.Reduce\u001b[0;34m()\u001b[0m\n",
      "\u001b[0;32mmpi4py/MPI/msgbuffer.pxi\u001b[0m in \u001b[0;36mmpi4py.MPI._p_msg_cco.for_reduce\u001b[0;34m()\u001b[0m\n",
      "\u001b[0;32mmpi4py/MPI/msgbuffer.pxi\u001b[0m in \u001b[0;36mmpi4py.MPI._p_msg_cco.for_cro_recv\u001b[0;34m()\u001b[0m\n",
      "\u001b[0;32mmpi4py/MPI/msgbuffer.pxi\u001b[0m in \u001b[0;36mmpi4py.MPI.message_simple\u001b[0;34m()\u001b[0m\n",
      "\u001b[0;31mValueError\u001b[0m: message: displacement 10 out of bounds, number of datatype entries 1"
     ]
    }
   ],
   "source": [
    "# N = 1000\n",
    "# startval = int(N*myrank/nproc + 1)\n",
    "# endval = int(N*(myrank +1)/nproc)\n",
    "# print(\"startval :\", startval)\n",
    "# print(\"endval \", endval)\n",
    "# # Create some np arrays on each process:\n",
    "# # For this demo, the arrays have only one\n",
    "# # entry that is assigned to be the rank of the processor\n",
    "\n",
    "# partial_sum = np.arange(0.0,10.,1.)\n",
    "# print(partial_sum)\n",
    "# for i in range (startval,endval+1):\n",
    "#     partial_sum += np.ones(10)\n",
    "\n",
    "# tot_sum = np.array(10)\n",
    "# comm.Reduce([partial_sum,(1,10), MPI.DOUBLE] , [tot_sum,(1,10), MPI.DOUBLE] , op=MPI.SUM , root=0)\n",
    "\n",
    "# if ( myrank == 0 ):\n",
    "#     print (tot_sum)\n",
    "\n"
   ]
  },
  {
   "cell_type": "code",
   "execution_count": null,
   "metadata": {},
   "outputs": [],
   "source": []
  },
  {
   "cell_type": "code",
   "execution_count": null,
   "metadata": {},
   "outputs": [],
   "source": []
  },
  {
   "cell_type": "code",
   "execution_count": null,
   "metadata": {},
   "outputs": [],
   "source": []
  }
 ],
 "metadata": {
  "kernelspec": {
   "display_name": "Python 3",
   "language": "python",
   "name": "python3"
  },
  "language_info": {
   "codemirror_mode": {
    "name": "ipython",
    "version": 3
   },
   "file_extension": ".py",
   "mimetype": "text/x-python",
   "name": "python",
   "nbconvert_exporter": "python",
   "pygments_lexer": "ipython3",
   "version": "3.7.3"
  }
 },
 "nbformat": 4,
 "nbformat_minor": 2
}
