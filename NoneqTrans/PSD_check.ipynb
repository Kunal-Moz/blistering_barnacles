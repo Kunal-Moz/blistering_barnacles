{
 "cells": [
  {
   "cell_type": "code",
   "execution_count": 1,
   "metadata": {},
   "outputs": [],
   "source": [
    "import numpy as np\n",
    "import matplotlib.pyplot as plt\n",
    "from scipy import signal\n",
    "from scipy import stats"
   ]
  },
  {
   "cell_type": "code",
   "execution_count": 3,
   "metadata": {},
   "outputs": [],
   "source": [
    "# Make the plots a bit bigger to see\n",
    "# NOTE: Must be done in a separate cell\n",
    "plt.rcParams['figure.dpi'] = 100"
   ]
  },
  {
   "cell_type": "code",
   "execution_count": 5,
   "metadata": {},
   "outputs": [
    {
     "name": "stdout",
     "output_type": "stream",
     "text": [
      "the size of the array is (258000,)\n"
     ]
    }
   ],
   "source": [
    "rvstime_data0 = np.fromfile(r'Data_ccr/RUN285/proc0Rvstup_RUN285.dat',dtype=float, count=-1)\n",
    "rvstime_data1 = np.fromfile(r'Data_ccr/RUN285/proc1Rvstup_RUN285.dat',dtype=float, count=-1)\n",
    "rvstime_data2 = np.fromfile(r'Data_ccr/RUN285/proc2Rvstup_RUN285.dat',dtype=float, count=-1)\n",
    "rvstime_data3 = np.fromfile(r'Data_ccr/RUN285/proc3Rvstup_RUN285.dat',dtype=float, count=-1)\n",
    "rvstime_data4 = np.fromfile(r'Data_ccr/RUN285/proc4Rvstup_RUN285.dat',dtype=float, count=-1)\n",
    "rvstime_data5 = np.fromfile(r'Data_ccr/RUN285/proc5Rvstup_RUN285.dat',dtype=float, count=-1)\n",
    "rvstime_data6 = np.fromfile(r'Data_ccr/RUN285/proc6Rvstup_RUN285.dat',dtype=float, count=-1)\n",
    "rvstime_data7 = np.fromfile(r'Data_ccr/RUN285/proc7Rvstup_RUN285.dat',dtype=float, count=-1)\n",
    "rvstime_data8 = np.fromfile(r'Data_ccr/RUN285/proc8Rvstup_RUN285.dat',dtype=float, count=-1)\n",
    "rvstime_data9 = np.fromfile(r'Data_ccr/RUN285/proc9Rvstup_RUN285.dat',dtype=float, count=-1)\n",
    "rvstime_data10 = np.fromfile(r'Data_ccr/RUN285/proc10Rvstup_RUN285.dat',dtype=float, count=-1)\n",
    "rvstime_data11 = np.fromfile(r'Data_ccr/RUN285/proc11Rvstup_RUN285.dat',dtype=float, count=-1)\n",
    "rvstime_data12 = np.fromfile(r'Data_ccr/RUN285/proc12Rvstup_RUN285.dat',dtype=float, count=-1)\n",
    "rvstime_data13 = np.fromfile(r'Data_ccr/RUN285/proc13Rvstup_RUN285.dat',dtype=float, count=-1)\n",
    "rvstime_data14 = np.fromfile(r'Data_ccr/RUN285/proc14Rvstup_RUN285.dat',dtype=float, count=-1)\n",
    "rvstime_data15 = np.fromfile(r'Data_ccr/RUN285/proc15Rvstup_RUN285.dat',dtype=float, count=-1)\n",
    "\n",
    "mtemp = 3\n",
    "numVsteps = mtemp#2*mtemp + 1\n",
    "rlen = int(rvstime_data0.shape[0]/numVsteps)\n",
    "print('the size of the array is',rvstime_data0.shape)\n",
    "tstart = 0.0 # starting temperature\n",
    "tend = 1.5 # final temperature\n",
    "\n",
    "# Reshaping the data\n",
    "Rvstime0 = rvstime_data0.reshape((numVsteps,rlen))\n",
    "Rvstime1 = rvstime_data1.reshape((numVsteps,rlen))\n",
    "Rvstime2 = rvstime_data2.reshape((numVsteps,rlen))\n",
    "Rvstime3 = rvstime_data3.reshape((numVsteps,rlen))\n",
    "Rvstime4 = rvstime_data4.reshape((numVsteps,rlen))\n",
    "Rvstime5 = rvstime_data5.reshape((numVsteps,rlen))\n",
    "Rvstime6 = rvstime_data6.reshape((numVsteps,rlen))\n",
    "Rvstime7 = rvstime_data7.reshape((numVsteps,rlen))\n",
    "Rvstime8 = rvstime_data8.reshape((numVsteps,rlen))\n",
    "Rvstime9 = rvstime_data9.reshape((numVsteps,rlen))\n",
    "Rvstime10 = rvstime_data10.reshape((numVsteps,rlen))\n",
    "Rvstime11 = rvstime_data11.reshape((numVsteps,rlen))\n",
    "Rvstime12= rvstime_data12.reshape((numVsteps,rlen))\n",
    "Rvstime13 = rvstime_data13.reshape((numVsteps,rlen))\n",
    "Rvstime14 = rvstime_data14.reshape((numVsteps,rlen))\n",
    "Rvstime15 = rvstime_data15.reshape((numVsteps,rlen))\n",
    "\n",
    "# Joining the data to get one big array\n",
    "Rvstimep = np.concatenate([Rvstime0,Rvstime1,Rvstime2,Rvstime3,Rvstime4, \\\n",
    "                           Rvstime5,Rvstime6,Rvstime7,Rvstime8,Rvstime9, \\\n",
    "                           Rvstime10,Rvstime11,Rvstime12,Rvstime13,Rvstime14,\\\n",
    "                           Rvstime15],axis=1)\n",
    "\n",
    "# Finding the mean\n",
    "Rmean = np.mean(Rvstimep,axis = 1)\n",
    "rplen = np.shape(Rvstimep)[1]\n",
    "#print(rvstime_data15)\n"
   ]
  },
  {
   "cell_type": "code",
   "execution_count": null,
   "metadata": {},
   "outputs": [],
   "source": []
  }
 ],
 "metadata": {
  "kernelspec": {
   "display_name": "Python 3",
   "language": "python",
   "name": "python3"
  },
  "language_info": {
   "codemirror_mode": {
    "name": "ipython",
    "version": 3
   },
   "file_extension": ".py",
   "mimetype": "text/x-python",
   "name": "python",
   "nbconvert_exporter": "python",
   "pygments_lexer": "ipython3",
   "version": "3.7.3"
  }
 },
 "nbformat": 4,
 "nbformat_minor": 4
}
